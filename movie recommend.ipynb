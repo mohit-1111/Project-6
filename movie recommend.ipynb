{
 "cells": [
  {
   "cell_type": "code",
   "execution_count": 1,
   "id": "2d5556b5",
   "metadata": {},
   "outputs": [],
   "source": [
    "import numpy as np # linear algebra\n",
    "import pandas as pd # data processing, CSV file I/O (e.g. pd.read_csv)\n",
    "import seaborn as sns\n",
    "import matplotlib.pyplot as plt\n",
    "%matplotlib inline"
   ]
  },
  {
   "cell_type": "code",
   "execution_count": 2,
   "id": "b4b7ca23",
   "metadata": {},
   "outputs": [
    {
     "data": {
      "text/html": [
       "<div>\n",
       "<style scoped>\n",
       "    .dataframe tbody tr th:only-of-type {\n",
       "        vertical-align: middle;\n",
       "    }\n",
       "\n",
       "    .dataframe tbody tr th {\n",
       "        vertical-align: top;\n",
       "    }\n",
       "\n",
       "    .dataframe thead th {\n",
       "        text-align: right;\n",
       "    }\n",
       "</style>\n",
       "<table border=\"1\" class=\"dataframe\">\n",
       "  <thead>\n",
       "    <tr style=\"text-align: right;\">\n",
       "      <th></th>\n",
       "      <th>Unnamed: 0</th>\n",
       "      <th>id</th>\n",
       "      <th>original_language</th>\n",
       "      <th>original_title</th>\n",
       "      <th>popularity</th>\n",
       "      <th>release_date</th>\n",
       "      <th>vote_average</th>\n",
       "      <th>vote_count</th>\n",
       "      <th>genre</th>\n",
       "      <th>overview</th>\n",
       "      <th>revenue</th>\n",
       "      <th>runtime</th>\n",
       "      <th>tagline</th>\n",
       "    </tr>\n",
       "  </thead>\n",
       "  <tbody>\n",
       "    <tr>\n",
       "      <th>0</th>\n",
       "      <td>0</td>\n",
       "      <td>580489</td>\n",
       "      <td>en</td>\n",
       "      <td>Venom: Let There Be Carnage</td>\n",
       "      <td>5401.308</td>\n",
       "      <td>2021-09-30</td>\n",
       "      <td>6.8</td>\n",
       "      <td>1736</td>\n",
       "      <td>['Science Fiction', 'Action', 'Adventure']</td>\n",
       "      <td>After finding a host body in investigative rep...</td>\n",
       "      <td>424000000</td>\n",
       "      <td>97.0</td>\n",
       "      <td>NaN</td>\n",
       "    </tr>\n",
       "    <tr>\n",
       "      <th>1</th>\n",
       "      <td>1</td>\n",
       "      <td>524434</td>\n",
       "      <td>en</td>\n",
       "      <td>Eternals</td>\n",
       "      <td>3365.535</td>\n",
       "      <td>2021-11-03</td>\n",
       "      <td>7.1</td>\n",
       "      <td>622</td>\n",
       "      <td>['Action', 'Adventure', 'Science Fiction', 'Fa...</td>\n",
       "      <td>The Eternals are a team of ancient aliens who ...</td>\n",
       "      <td>165000000</td>\n",
       "      <td>157.0</td>\n",
       "      <td>In the beginning...</td>\n",
       "    </tr>\n",
       "    <tr>\n",
       "      <th>2</th>\n",
       "      <td>2</td>\n",
       "      <td>438631</td>\n",
       "      <td>en</td>\n",
       "      <td>Dune</td>\n",
       "      <td>2911.423</td>\n",
       "      <td>2021-09-15</td>\n",
       "      <td>8.0</td>\n",
       "      <td>3632</td>\n",
       "      <td>['Action', 'Adventure', 'Science Fiction']</td>\n",
       "      <td>Paul Atreides, a brilliant and gifted young ma...</td>\n",
       "      <td>331116356</td>\n",
       "      <td>155.0</td>\n",
       "      <td>Beyond fear, destiny awaits.</td>\n",
       "    </tr>\n",
       "    <tr>\n",
       "      <th>3</th>\n",
       "      <td>3</td>\n",
       "      <td>796499</td>\n",
       "      <td>en</td>\n",
       "      <td>Army of Thieves</td>\n",
       "      <td>2552.437</td>\n",
       "      <td>2021-10-27</td>\n",
       "      <td>6.9</td>\n",
       "      <td>555</td>\n",
       "      <td>['Action', 'Crime', 'Thriller']</td>\n",
       "      <td>A mysterious woman recruits bank teller Ludwig...</td>\n",
       "      <td>0</td>\n",
       "      <td>127.0</td>\n",
       "      <td>Before Vegas, one locksmith became a legend.</td>\n",
       "    </tr>\n",
       "    <tr>\n",
       "      <th>4</th>\n",
       "      <td>4</td>\n",
       "      <td>550988</td>\n",
       "      <td>en</td>\n",
       "      <td>Free Guy</td>\n",
       "      <td>1850.470</td>\n",
       "      <td>2021-08-11</td>\n",
       "      <td>7.8</td>\n",
       "      <td>3493</td>\n",
       "      <td>['Comedy', 'Action', 'Adventure', 'Science Fic...</td>\n",
       "      <td>A bank teller called Guy realizes he is a back...</td>\n",
       "      <td>331096766</td>\n",
       "      <td>115.0</td>\n",
       "      <td>Life's too short to be a background character.</td>\n",
       "    </tr>\n",
       "  </tbody>\n",
       "</table>\n",
       "</div>"
      ],
      "text/plain": [
       "   Unnamed: 0      id original_language               original_title  \\\n",
       "0           0  580489                en  Venom: Let There Be Carnage   \n",
       "1           1  524434                en                     Eternals   \n",
       "2           2  438631                en                         Dune   \n",
       "3           3  796499                en              Army of Thieves   \n",
       "4           4  550988                en                     Free Guy   \n",
       "\n",
       "   popularity release_date  vote_average  vote_count  \\\n",
       "0    5401.308   2021-09-30           6.8        1736   \n",
       "1    3365.535   2021-11-03           7.1         622   \n",
       "2    2911.423   2021-09-15           8.0        3632   \n",
       "3    2552.437   2021-10-27           6.9         555   \n",
       "4    1850.470   2021-08-11           7.8        3493   \n",
       "\n",
       "                                               genre  \\\n",
       "0         ['Science Fiction', 'Action', 'Adventure']   \n",
       "1  ['Action', 'Adventure', 'Science Fiction', 'Fa...   \n",
       "2         ['Action', 'Adventure', 'Science Fiction']   \n",
       "3                    ['Action', 'Crime', 'Thriller']   \n",
       "4  ['Comedy', 'Action', 'Adventure', 'Science Fic...   \n",
       "\n",
       "                                            overview    revenue  runtime  \\\n",
       "0  After finding a host body in investigative rep...  424000000     97.0   \n",
       "1  The Eternals are a team of ancient aliens who ...  165000000    157.0   \n",
       "2  Paul Atreides, a brilliant and gifted young ma...  331116356    155.0   \n",
       "3  A mysterious woman recruits bank teller Ludwig...          0    127.0   \n",
       "4  A bank teller called Guy realizes he is a back...  331096766    115.0   \n",
       "\n",
       "                                          tagline  \n",
       "0                                             NaN  \n",
       "1                             In the beginning...  \n",
       "2                    Beyond fear, destiny awaits.  \n",
       "3    Before Vegas, one locksmith became a legend.  \n",
       "4  Life's too short to be a background character.  "
      ]
     },
     "execution_count": 2,
     "metadata": {},
     "output_type": "execute_result"
    }
   ],
   "source": [
    "df = pd.read_csv('movies.csv',lineterminator='\\n')\n",
    "df.head()"
   ]
  },
  {
   "cell_type": "code",
   "execution_count": 3,
   "id": "f1cc3e99",
   "metadata": {},
   "outputs": [
    {
     "data": {
      "text/plain": [
       "Unnamed: 0              0\n",
       "id                      0\n",
       "original_language       0\n",
       "original_title          0\n",
       "popularity              0\n",
       "release_date           38\n",
       "vote_average            0\n",
       "vote_count              0\n",
       "genre                   0\n",
       "overview              100\n",
       "revenue                 0\n",
       "runtime                 9\n",
       "tagline              2920\n",
       "dtype: int64"
      ]
     },
     "execution_count": 3,
     "metadata": {},
     "output_type": "execute_result"
    }
   ],
   "source": [
    "df.isnull().sum()"
   ]
  },
  {
   "cell_type": "code",
   "execution_count": 4,
   "id": "b6eeafc8",
   "metadata": {},
   "outputs": [
    {
     "name": "stdout",
     "output_type": "stream",
     "text": [
      "<class 'pandas.core.frame.DataFrame'>\n",
      "RangeIndex: 10000 entries, 0 to 9999\n",
      "Data columns (total 13 columns):\n",
      " #   Column             Non-Null Count  Dtype  \n",
      "---  ------             --------------  -----  \n",
      " 0   Unnamed: 0         10000 non-null  int64  \n",
      " 1   id                 10000 non-null  int64  \n",
      " 2   original_language  10000 non-null  object \n",
      " 3   original_title     10000 non-null  object \n",
      " 4   popularity         10000 non-null  float64\n",
      " 5   release_date       9962 non-null   object \n",
      " 6   vote_average       10000 non-null  float64\n",
      " 7   vote_count         10000 non-null  int64  \n",
      " 8   genre              10000 non-null  object \n",
      " 9   overview           9900 non-null   object \n",
      " 10  revenue            10000 non-null  int64  \n",
      " 11  runtime            9991 non-null   float64\n",
      " 12  tagline            7080 non-null   object \n",
      "dtypes: float64(3), int64(4), object(6)\n",
      "memory usage: 1015.8+ KB\n"
     ]
    }
   ],
   "source": [
    "df.info()"
   ]
  },
  {
   "cell_type": "code",
   "execution_count": 5,
   "id": "e05bba22",
   "metadata": {},
   "outputs": [],
   "source": [
    "df = df.dropna()"
   ]
  },
  {
   "cell_type": "code",
   "execution_count": 6,
   "id": "53123dfb",
   "metadata": {},
   "outputs": [
    {
     "data": {
      "text/html": [
       "<div>\n",
       "<style scoped>\n",
       "    .dataframe tbody tr th:only-of-type {\n",
       "        vertical-align: middle;\n",
       "    }\n",
       "\n",
       "    .dataframe tbody tr th {\n",
       "        vertical-align: top;\n",
       "    }\n",
       "\n",
       "    .dataframe thead th {\n",
       "        text-align: right;\n",
       "    }\n",
       "</style>\n",
       "<table border=\"1\" class=\"dataframe\">\n",
       "  <thead>\n",
       "    <tr style=\"text-align: right;\">\n",
       "      <th></th>\n",
       "      <th>Unnamed: 0</th>\n",
       "      <th>id</th>\n",
       "      <th>original_language</th>\n",
       "      <th>original_title</th>\n",
       "      <th>popularity</th>\n",
       "      <th>release_date</th>\n",
       "      <th>vote_average</th>\n",
       "      <th>vote_count</th>\n",
       "      <th>genre</th>\n",
       "      <th>overview</th>\n",
       "      <th>revenue</th>\n",
       "      <th>runtime</th>\n",
       "      <th>tagline</th>\n",
       "      <th>Year</th>\n",
       "    </tr>\n",
       "  </thead>\n",
       "  <tbody>\n",
       "    <tr>\n",
       "      <th>1</th>\n",
       "      <td>1</td>\n",
       "      <td>524434</td>\n",
       "      <td>en</td>\n",
       "      <td>Eternals</td>\n",
       "      <td>3365.535</td>\n",
       "      <td>2021-11-03</td>\n",
       "      <td>7.1</td>\n",
       "      <td>622</td>\n",
       "      <td>['Action', 'Adventure', 'Science Fiction', 'Fa...</td>\n",
       "      <td>The Eternals are a team of ancient aliens who ...</td>\n",
       "      <td>165000000</td>\n",
       "      <td>157.0</td>\n",
       "      <td>In the beginning...</td>\n",
       "      <td>2021</td>\n",
       "    </tr>\n",
       "    <tr>\n",
       "      <th>2</th>\n",
       "      <td>2</td>\n",
       "      <td>438631</td>\n",
       "      <td>en</td>\n",
       "      <td>Dune</td>\n",
       "      <td>2911.423</td>\n",
       "      <td>2021-09-15</td>\n",
       "      <td>8.0</td>\n",
       "      <td>3632</td>\n",
       "      <td>['Action', 'Adventure', 'Science Fiction']</td>\n",
       "      <td>Paul Atreides, a brilliant and gifted young ma...</td>\n",
       "      <td>331116356</td>\n",
       "      <td>155.0</td>\n",
       "      <td>Beyond fear, destiny awaits.</td>\n",
       "      <td>2021</td>\n",
       "    </tr>\n",
       "    <tr>\n",
       "      <th>3</th>\n",
       "      <td>3</td>\n",
       "      <td>796499</td>\n",
       "      <td>en</td>\n",
       "      <td>Army of Thieves</td>\n",
       "      <td>2552.437</td>\n",
       "      <td>2021-10-27</td>\n",
       "      <td>6.9</td>\n",
       "      <td>555</td>\n",
       "      <td>['Action', 'Crime', 'Thriller']</td>\n",
       "      <td>A mysterious woman recruits bank teller Ludwig...</td>\n",
       "      <td>0</td>\n",
       "      <td>127.0</td>\n",
       "      <td>Before Vegas, one locksmith became a legend.</td>\n",
       "      <td>2021</td>\n",
       "    </tr>\n",
       "    <tr>\n",
       "      <th>4</th>\n",
       "      <td>4</td>\n",
       "      <td>550988</td>\n",
       "      <td>en</td>\n",
       "      <td>Free Guy</td>\n",
       "      <td>1850.470</td>\n",
       "      <td>2021-08-11</td>\n",
       "      <td>7.8</td>\n",
       "      <td>3493</td>\n",
       "      <td>['Comedy', 'Action', 'Adventure', 'Science Fic...</td>\n",
       "      <td>A bank teller called Guy realizes he is a back...</td>\n",
       "      <td>331096766</td>\n",
       "      <td>115.0</td>\n",
       "      <td>Life's too short to be a background character.</td>\n",
       "      <td>2021</td>\n",
       "    </tr>\n",
       "    <tr>\n",
       "      <th>5</th>\n",
       "      <td>5</td>\n",
       "      <td>574060</td>\n",
       "      <td>en</td>\n",
       "      <td>Gunpowder Milkshake</td>\n",
       "      <td>1453.423</td>\n",
       "      <td>2021-07-14</td>\n",
       "      <td>6.5</td>\n",
       "      <td>347</td>\n",
       "      <td>['Action', 'Thriller', 'Crime']</td>\n",
       "      <td>In her turbulent life as a professional assass...</td>\n",
       "      <td>344931</td>\n",
       "      <td>114.0</td>\n",
       "      <td>Revenge is best served ice cold.</td>\n",
       "      <td>2021</td>\n",
       "    </tr>\n",
       "    <tr>\n",
       "      <th>...</th>\n",
       "      <td>...</td>\n",
       "      <td>...</td>\n",
       "      <td>...</td>\n",
       "      <td>...</td>\n",
       "      <td>...</td>\n",
       "      <td>...</td>\n",
       "      <td>...</td>\n",
       "      <td>...</td>\n",
       "      <td>...</td>\n",
       "      <td>...</td>\n",
       "      <td>...</td>\n",
       "      <td>...</td>\n",
       "      <td>...</td>\n",
       "      <td>...</td>\n",
       "    </tr>\n",
       "    <tr>\n",
       "      <th>9994</th>\n",
       "      <td>9994</td>\n",
       "      <td>28752</td>\n",
       "      <td>en</td>\n",
       "      <td>The Curse of the Werewolf</td>\n",
       "      <td>9.017</td>\n",
       "      <td>1961-05-01</td>\n",
       "      <td>6.6</td>\n",
       "      <td>110</td>\n",
       "      <td>['Horror']</td>\n",
       "      <td>A child conceived after a demented beggar rape...</td>\n",
       "      <td>0</td>\n",
       "      <td>93.0</td>\n",
       "      <td>HALF-MAN... HALF-WOLF... COMPELLED BY THE HIDE...</td>\n",
       "      <td>1961</td>\n",
       "    </tr>\n",
       "    <tr>\n",
       "      <th>9996</th>\n",
       "      <td>9996</td>\n",
       "      <td>15934</td>\n",
       "      <td>en</td>\n",
       "      <td>El cantante</td>\n",
       "      <td>10.417</td>\n",
       "      <td>2006-09-12</td>\n",
       "      <td>7.0</td>\n",
       "      <td>80</td>\n",
       "      <td>['History', 'Drama', 'Music']</td>\n",
       "      <td>The rise and fall of salsa singer, Héctor Lavo...</td>\n",
       "      <td>0</td>\n",
       "      <td>116.0</td>\n",
       "      <td>Based on the true story of the King of Salsa, ...</td>\n",
       "      <td>2006</td>\n",
       "    </tr>\n",
       "    <tr>\n",
       "      <th>9997</th>\n",
       "      <td>9997</td>\n",
       "      <td>162215</td>\n",
       "      <td>en</td>\n",
       "      <td>How I Live Now</td>\n",
       "      <td>9.520</td>\n",
       "      <td>2013-09-10</td>\n",
       "      <td>6.6</td>\n",
       "      <td>705</td>\n",
       "      <td>['Drama', 'Action', 'Thriller', 'War']</td>\n",
       "      <td>An American girl on holiday in the English cou...</td>\n",
       "      <td>0</td>\n",
       "      <td>101.0</td>\n",
       "      <td>Love will lead you home</td>\n",
       "      <td>2013</td>\n",
       "    </tr>\n",
       "    <tr>\n",
       "      <th>9998</th>\n",
       "      <td>9998</td>\n",
       "      <td>5723</td>\n",
       "      <td>en</td>\n",
       "      <td>Once</td>\n",
       "      <td>9.267</td>\n",
       "      <td>2007-03-23</td>\n",
       "      <td>7.4</td>\n",
       "      <td>990</td>\n",
       "      <td>['Drama', 'Music', 'Romance']</td>\n",
       "      <td>A vacuum repairman moonlights as a street musi...</td>\n",
       "      <td>20710513</td>\n",
       "      <td>85.0</td>\n",
       "      <td>How often do you find the right person?</td>\n",
       "      <td>2007</td>\n",
       "    </tr>\n",
       "    <tr>\n",
       "      <th>9999</th>\n",
       "      <td>9999</td>\n",
       "      <td>311667</td>\n",
       "      <td>en</td>\n",
       "      <td>Manhattan Night</td>\n",
       "      <td>9.273</td>\n",
       "      <td>2016-05-20</td>\n",
       "      <td>6.0</td>\n",
       "      <td>304</td>\n",
       "      <td>['Drama', 'Mystery', 'Thriller']</td>\n",
       "      <td>Porter Wren is a Manhattan tabloid writer with...</td>\n",
       "      <td>0</td>\n",
       "      <td>113.0</td>\n",
       "      <td>No reporter can resist a siren.</td>\n",
       "      <td>2016</td>\n",
       "    </tr>\n",
       "  </tbody>\n",
       "</table>\n",
       "<p>7072 rows × 14 columns</p>\n",
       "</div>"
      ],
      "text/plain": [
       "      Unnamed: 0      id original_language             original_title  \\\n",
       "1              1  524434                en                   Eternals   \n",
       "2              2  438631                en                       Dune   \n",
       "3              3  796499                en            Army of Thieves   \n",
       "4              4  550988                en                   Free Guy   \n",
       "5              5  574060                en        Gunpowder Milkshake   \n",
       "...          ...     ...               ...                        ...   \n",
       "9994        9994   28752                en  The Curse of the Werewolf   \n",
       "9996        9996   15934                en                El cantante   \n",
       "9997        9997  162215                en             How I Live Now   \n",
       "9998        9998    5723                en                       Once   \n",
       "9999        9999  311667                en            Manhattan Night   \n",
       "\n",
       "      popularity release_date  vote_average  vote_count  \\\n",
       "1       3365.535   2021-11-03           7.1         622   \n",
       "2       2911.423   2021-09-15           8.0        3632   \n",
       "3       2552.437   2021-10-27           6.9         555   \n",
       "4       1850.470   2021-08-11           7.8        3493   \n",
       "5       1453.423   2021-07-14           6.5         347   \n",
       "...          ...          ...           ...         ...   \n",
       "9994       9.017   1961-05-01           6.6         110   \n",
       "9996      10.417   2006-09-12           7.0          80   \n",
       "9997       9.520   2013-09-10           6.6         705   \n",
       "9998       9.267   2007-03-23           7.4         990   \n",
       "9999       9.273   2016-05-20           6.0         304   \n",
       "\n",
       "                                                  genre  \\\n",
       "1     ['Action', 'Adventure', 'Science Fiction', 'Fa...   \n",
       "2            ['Action', 'Adventure', 'Science Fiction']   \n",
       "3                       ['Action', 'Crime', 'Thriller']   \n",
       "4     ['Comedy', 'Action', 'Adventure', 'Science Fic...   \n",
       "5                       ['Action', 'Thriller', 'Crime']   \n",
       "...                                                 ...   \n",
       "9994                                         ['Horror']   \n",
       "9996                      ['History', 'Drama', 'Music']   \n",
       "9997             ['Drama', 'Action', 'Thriller', 'War']   \n",
       "9998                      ['Drama', 'Music', 'Romance']   \n",
       "9999                   ['Drama', 'Mystery', 'Thriller']   \n",
       "\n",
       "                                               overview    revenue  runtime  \\\n",
       "1     The Eternals are a team of ancient aliens who ...  165000000    157.0   \n",
       "2     Paul Atreides, a brilliant and gifted young ma...  331116356    155.0   \n",
       "3     A mysterious woman recruits bank teller Ludwig...          0    127.0   \n",
       "4     A bank teller called Guy realizes he is a back...  331096766    115.0   \n",
       "5     In her turbulent life as a professional assass...     344931    114.0   \n",
       "...                                                 ...        ...      ...   \n",
       "9994  A child conceived after a demented beggar rape...          0     93.0   \n",
       "9996  The rise and fall of salsa singer, Héctor Lavo...          0    116.0   \n",
       "9997  An American girl on holiday in the English cou...          0    101.0   \n",
       "9998  A vacuum repairman moonlights as a street musi...   20710513     85.0   \n",
       "9999  Porter Wren is a Manhattan tabloid writer with...          0    113.0   \n",
       "\n",
       "                                                tagline  Year  \n",
       "1                                   In the beginning...  2021  \n",
       "2                          Beyond fear, destiny awaits.  2021  \n",
       "3          Before Vegas, one locksmith became a legend.  2021  \n",
       "4        Life's too short to be a background character.  2021  \n",
       "5                      Revenge is best served ice cold.  2021  \n",
       "...                                                 ...   ...  \n",
       "9994  HALF-MAN... HALF-WOLF... COMPELLED BY THE HIDE...  1961  \n",
       "9996  Based on the true story of the King of Salsa, ...  2006  \n",
       "9997                            Love will lead you home  2013  \n",
       "9998            How often do you find the right person?  2007  \n",
       "9999                    No reporter can resist a siren.  2016  \n",
       "\n",
       "[7072 rows x 14 columns]"
      ]
     },
     "execution_count": 6,
     "metadata": {},
     "output_type": "execute_result"
    }
   ],
   "source": [
    "df['Year'] = df['release_date'].apply(lambda x:x[0:4])\n",
    "df"
   ]
  },
  {
   "cell_type": "code",
   "execution_count": 8,
   "id": "05362417",
   "metadata": {},
   "outputs": [
    {
     "data": {
      "text/plain": [
       "Text(0.5, 1.0, 'Popular Movies')"
      ]
     },
     "execution_count": 8,
     "metadata": {},
     "output_type": "execute_result"
    },
    {
     "data": {
      "image/png": "[encoded data removed]",
      "text/plain": [
       "<Figure size 864x288 with 1 Axes>"
      ]
     },
     "metadata": {
      "needs_background": "light"
     },
     "output_type": "display_data"
    }
   ],
   "source": [
    "pop= df.sort_values('popularity', ascending=False)\n",
    "import matplotlib.pyplot as plt\n",
    "plt.figure(figsize=(12,4))\n",
    "\n",
    "plt.barh(pop['original_title'].head(6),pop['popularity'].head(6), align='center',\n",
    "        color='skyblue')\n",
    "plt.gca().invert_yaxis()\n",
    "plt.xlabel(\"Popularity\")\n",
    "plt.title(\"Popular Movies\")"
   ]
  },
  {
   "cell_type": "code",
   "execution_count": 9,
   "id": "2d71bbb3",
   "metadata": {},
   "outputs": [
    {
     "data": {
      "image/png": "[encoded data removed]",
      "text/plain": [
       "<Figure size 864x288 with 1 Axes>"
      ]
     },
     "metadata": {
      "needs_background": "light"
     },
     "output_type": "display_data"
    }
   ],
   "source": [
    "fig, (ax) = plt.subplots(ncols=1, figsize=(12,4))\n",
    "s = sns.boxplot(x='vote_count', y=\"vote_average\", data=df, palette=\"Greens\",showfliers=True)\n",
    "plt.show()"
   ]
  },
  {
   "cell_type": "code",
   "execution_count": 12,
   "id": "e8a0c743",
   "metadata": {},
   "outputs": [
    {
     "data": {
      "image/png": "[encoded data removed]",
      "text/plain": [
       "<Figure size 864x288 with 1 Axes>"
      ]
     },
     "metadata": {
      "needs_background": "light"
     },
     "output_type": "display_data"
    }
   ],
   "source": [
    "fig, (ax) = plt.subplots(ncols=1, figsize=(12,4))\n",
    "s = sns.boxplot(x='release_date', y=\"revenue\", data=df, palette=\"Greens\",showfliers=True)\n",
    "plt.show()"
   ]
  },
  {
   "cell_type": "code",
   "execution_count": 13,
   "id": "f2fa4470",
   "metadata": {},
   "outputs": [
    {
     "data": {
      "image/png": "[encoded data removed]",
      "text/plain": [
       "<Figure size 864x288 with 1 Axes>"
      ]
     },
     "metadata": {
      "needs_background": "light"
     },
     "output_type": "display_data"
    }
   ],
   "source": [
    "fig, (ax) = plt.subplots(ncols=1, figsize=(12,4))\n",
    "s = sns.boxplot(x='vote_average', y=\"release_date\", data=df, palette=\"Greens\",showfliers=True)\n",
    "plt.show()"
   ]
  },
  {
   "cell_type": "code",
   "execution_count": 15,
   "id": "d9ae65d7",
   "metadata": {},
   "outputs": [
    {
     "data": {
      "image/png": "[encoded data removed]",
      "text/plain": [
       "<Figure size 864x432 with 1 Axes>"
      ]
     },
     "metadata": {
      "needs_background": "light"
     },
     "output_type": "display_data"
    }
   ],
   "source": [
    "dt = df.groupby(['release_date'])['vote_average'].count().reset_index()\n",
    "fig, (ax) = plt.subplots(ncols=1, figsize=(12,6))\n",
    "plt.plot(dt['release_date'],dt['vote_average']); plt.xlabel('release_date'); plt.ylabel('vote_count'); plt.title('vote_count')\n",
    "plt.show()"
   ]
  },
  {
   "cell_type": "code",
   "execution_count": 16,
   "id": "88aa0278",
   "metadata": {},
   "outputs": [],
   "source": [
    "from sklearn.feature_extraction.text import TfidfVectorizer"
   ]
  },
  {
   "cell_type": "code",
   "execution_count": 17,
   "id": "fdd0e661",
   "metadata": {},
   "outputs": [
    {
     "data": {
      "text/plain": [
       "(7072, 23119)"
      ]
     },
     "execution_count": 17,
     "metadata": {},
     "output_type": "execute_result"
    }
   ],
   "source": [
    "#removing stopwords\n",
    "tfidf = TfidfVectorizer(stop_words='english')\n",
    "\n",
    "#Replace NaN with an empty string\n",
    "df['overview'] = df['overview'].fillna('')\n",
    "\n",
    "#Construct the required TF-IDF matrix by fitting and transforming the data\n",
    "tfidf_matrix = tfidf.fit_transform(df['overview'])\n",
    "\n",
    "#Output the shape of tfidf_matrix\n",
    "tfidf_matrix.shape"
   ]
  },
  {
   "cell_type": "code",
   "execution_count": 18,
   "id": "2e28db23",
   "metadata": {},
   "outputs": [],
   "source": [
    "# Import linear_kernel\n",
    "from sklearn.metrics.pairwise import linear_kernel\n",
    "\n",
    "# Compute the cosine similarity matrix\n",
    "cosine_sim = linear_kernel(tfidf_matrix, tfidf_matrix)"
   ]
  },
  {
   "cell_type": "code",
   "execution_count": 19,
   "id": "10c119e5",
   "metadata": {},
   "outputs": [],
   "source": [
    "indices = pd.Series(df.index, index=df['original_title']).drop_duplicates()"
   ]
  },
  {
   "cell_type": "code",
   "execution_count": 20,
   "id": "5d48b57a",
   "metadata": {},
   "outputs": [],
   "source": [
    "def get_recommendations(original_title, cosine_sim=cosine_sim):\n",
    "    idx = indices[original_title]\n",
    "\n",
    "    # Get the pairwsie similarity scores of all movies with that movie\n",
    "    sim_scores = list(enumerate(cosine_sim[idx]))\n",
    "\n",
    "    # Sort the movies based on the similarity scores\n",
    "    sim_scores = sorted(sim_scores, key=lambda x: x[1], reverse=True)\n",
    "\n",
    "    # Get the scores of the 10 most similar movies\n",
    "    sim_scores = sim_scores[1:11]\n",
    "\n",
    "    # Get the movie indices\n",
    "    movie_indices = [i[0] for i in sim_scores]\n",
    "\n",
    "    # Return the top 10 most similar movies\n",
    "    return df['original_title'].iloc[movie_indices]"
   ]
  },
  {
   "cell_type": "code",
   "execution_count": 32,
   "id": "9a413204",
   "metadata": {},
   "outputs": [
    {
     "data": {
      "text/plain": [
       "622                   Jupiter Ascending\n",
       "68                    Godzilla vs. Kong\n",
       "8790                    Jurassic Galaxy\n",
       "3069      The Day the Earth Stood Still\n",
       "1298                   The Darkest Hour\n",
       "4073    Star Trek V: The Final Frontier\n",
       "2028                  The Fifth Element\n",
       "3837            Star Trek: Insurrection\n",
       "888                      Men in Black 3\n",
       "53                     The Tomorrow War\n",
       "Name: original_title, dtype: object"
      ]
     },
     "execution_count": 32,
     "metadata": {},
     "output_type": "execute_result"
    }
   ],
   "source": [
    "get_recommendations('Eternals')"
   ]
  },
  {
   "cell_type": "code",
   "execution_count": null,
   "id": "772f1c18",
   "metadata": {},
   "outputs": [],
   "source": []
  },
  {
   "cell_type": "code",
   "execution_count": null,
   "id": "3411ddb8",
   "metadata": {},
   "outputs": [],
   "source": []
  }
 ],
 "metadata": {
  "kernelspec": {
   "display_name": "Python 3 (ipykernel)",
   "language": "python",
   "name": "python3"
  },
  "language_info": {
   "codemirror_mode": {
    "name": "ipython",
    "version": 3
   },
   "file_extension": ".py",
   "mimetype": "text/x-python",
   "name": "python",
   "nbconvert_exporter": "python",
   "pygments_lexer": "ipython3",
   "version": "3.9.7"
  }
 },
 "nbformat": 4,
 "nbformat_minor": 5
}
